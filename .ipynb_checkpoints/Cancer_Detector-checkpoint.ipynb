{
 "cells": [
  {
   "cell_type": "markdown",
   "metadata": {},
   "source": [
    "# Data pre-processing"
   ]
  },
  {
   "cell_type": "code",
   "execution_count": null,
   "metadata": {},
   "outputs": [],
   "source": [
    "# Author: Khoi Hoang\n",
    "# Contact: hoanganhkhoil@gmail.com\n",
    "# Project: Cancer Detector - applied machine learning to analyze medical records provided by Wisconsin hospital\n",
    "# and predict whether a case is normal or cancer.\n",
    "\n",
    "import numpy as np\n",
    "from sklearn import preprocessing, cross_validation, svm\n",
    "import pandas as pd\n",
    "\n",
    "# Load the dataset\n",
    "df = pd.read_csv('breast-cancer-wisconsin.data.txt')\n",
    "\n",
    "# Replace unknown inputs with some extreme values\n",
    "df.replace('?',-999999,inplace=True)\n",
    "\n",
    "# Drop the id column from the dataset\n",
    "df.drop(['id'], 1, inplace=True)\n",
    "\n",
    "# Distribute X and y\n",
    "X = np.array(df.drop(['class'],1))\n",
    "y = np.array(df['class'])\n",
    "\n",
    "# Distribute X and y into trainning set and testing set\n",
    "X_train, X_test, y_train, y_test = cross_validation.train_test_split(X,y,test_size=0.2)\n"
   ]
  },
  {
   "cell_type": "markdown",
   "metadata": {},
   "source": [
    "# Training"
   ]
  },
  {
   "cell_type": "code",
   "execution_count": null,
   "metadata": {
    "collapsed": true
   },
   "outputs": [],
   "source": [
    "# Create a classifier - using SVM classifier\n",
    "clf = svm.SVC()\n",
    "\n",
    "# Train the data\n",
    "clf.fit(X_train, y_train)\n",
    "\n",
    "# Test the data\n",
    "accuracy = clf.score(X_test, y_test)\n",
    "\n",
    "# Predict with some samples\n",
    "X_sample = np.array(X[10:20], dtype=np.float64)\n",
    "predictions = clf.predict(X_sample)"
   ]
  },
  {
   "cell_type": "markdown",
   "metadata": {},
   "source": [
    "# Testing"
   ]
  },
  {
   "cell_type": "code",
   "execution_count": 3,
   "metadata": {},
   "outputs": [
    {
     "name": "stdout",
     "output_type": "stream",
     "text": [
      "Accuracy:  97.86 %\n",
      "\n",
      "Test some random 10 cases.\n",
      "\n",
      "Actual output:\n",
      "\n",
      "Normal\n",
      "Normal\n",
      "Cancer detected\n",
      "Normal\n",
      "Cancer detected\n",
      "Cancer detected\n",
      "Normal\n",
      "Normal\n",
      "Cancer detected\n",
      "Normal\n",
      "\n",
      "\n",
      "Predicted output: \n",
      "\n",
      "Normal\n",
      "Normal\n",
      "Cancer detected\n",
      "Normal\n",
      "Cancer detected\n",
      "Cancer detected\n",
      "Normal\n",
      "Normal\n",
      "Cancer detected\n",
      "Normal\n"
     ]
    }
   ],
   "source": [
    "print (\"Accuracy: \", round(accuracy * 100,2), \"%\\n\")\n",
    "\n",
    "print (\"Test some random 10 cases.\\n\")\n",
    "print (\"Actual output:\\n\")\n",
    "for case in y[10:20]:\n",
    "    if case == 2:\n",
    "        print (\"Normal\")\n",
    "    else:\n",
    "        print (\"Cancer detected\")\n",
    "        \n",
    "\n",
    "print (\"\\n\")\n",
    "print (\"Predicted output: \\n\")\n",
    "\n",
    "\n",
    "for prediction in predictions:\n",
    "    if prediction == 2:\n",
    "        print (\"Normal\")\n",
    "    else:\n",
    "        print (\"Cancer detected\")"
   ]
  },
  {
   "cell_type": "code",
   "execution_count": null,
   "metadata": {
    "collapsed": true
   },
   "outputs": [],
   "source": []
  }
 ],
 "metadata": {
  "kernelspec": {
   "display_name": "Python 3",
   "language": "python",
   "name": "python3"
  },
  "language_info": {
   "codemirror_mode": {
    "name": "ipython",
    "version": 3
   },
   "file_extension": ".py",
   "mimetype": "text/x-python",
   "name": "python",
   "nbconvert_exporter": "python",
   "pygments_lexer": "ipython3",
   "version": "3.6.1"
  }
 },
 "nbformat": 4,
 "nbformat_minor": 2
}
